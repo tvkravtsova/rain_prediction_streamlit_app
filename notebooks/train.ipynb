{
  "cells": [
    {
      "cell_type": "markdown",
      "id": "protected-player",
      "metadata": {
        "id": "protected-player"
      },
      "source": [
        "# Rain Prediction in Australia Using Weather Data\n",
        "\n"
      ]
    },
    {
      "cell_type": "code",
      "source": [
        "import pandas as pd\n",
        "import numpy as np\n",
        "from sklearn.model_selection import train_test_split\n",
        "from sklearn.ensemble import RandomForestClassifier\n",
        "from sklearn.impute import SimpleImputer\n",
        "from sklearn.preprocessing import OneHotEncoder, MinMaxScaler\n",
        "from sklearn.metrics import accuracy_score\n",
        "import joblib\n",
        "\n",
        "# Load the dataset\n",
        "df = pd.read_csv('weatherAUS.csv')\n",
        "\n",
        "# Drop rows with missing target values\n",
        "df.dropna(subset=['RainTomorrow'], inplace=True)\n",
        "\n",
        "# Extract year from date\n",
        "df['Year'] = pd.to_datetime(df['Date']).dt.year\n",
        "\n",
        "# Split dataset by year\n",
        "train_df = df[df['Year'] < 2015]\n",
        "val_df = df[df['Year'] == 2015]\n",
        "test_df = df[df['Year'] > 2015]\n",
        "\n",
        "# Explicitly exclude non-feature columns\n",
        "excluded_cols = ['Date', 'Year', 'RainTomorrow']\n",
        "input_cols = [col for col in df.columns if col not in excluded_cols]\n",
        "target_col = 'RainTomorrow'\n",
        "\n",
        "# Split features and target\n",
        "X_train, y_train = train_df[input_cols], train_df[target_col]\n",
        "X_val, y_val = val_df[input_cols], val_df[target_col]\n",
        "X_test, y_test = test_df[input_cols], test_df[target_col]\n",
        "\n",
        "# Identify numeric and categorical features\n",
        "numeric_cols = X_train.select_dtypes(include=np.number).columns.tolist()\n",
        "categorical_cols = X_train.select_dtypes(include='object').columns.tolist()\n",
        "\n",
        "# Impute missing numeric values\n",
        "imputer = SimpleImputer(strategy='mean')\n",
        "X_train[numeric_cols] = imputer.fit_transform(X_train[numeric_cols])\n",
        "X_val[numeric_cols] = imputer.transform(X_val[numeric_cols])\n",
        "X_test[numeric_cols] = imputer.transform(X_test[numeric_cols])\n",
        "\n",
        "# Scale numeric features\n",
        "scaler = MinMaxScaler()\n",
        "X_train[numeric_cols] = scaler.fit_transform(X_train[numeric_cols])\n",
        "X_val[numeric_cols] = scaler.transform(X_val[numeric_cols])\n",
        "X_test[numeric_cols] = scaler.transform(X_test[numeric_cols])\n",
        "\n",
        "# One-hot encode categorical features\n",
        "encoder = OneHotEncoder(handle_unknown='ignore', sparse_output=False)\n",
        "X_train_cat = encoder.fit_transform(X_train[categorical_cols])\n",
        "X_val_cat = encoder.transform(X_val[categorical_cols])\n",
        "X_test_cat = encoder.transform(X_test[categorical_cols])\n",
        "\n",
        "# Combine numeric and encoded categorical features\n",
        "X_train_final = np.hstack([X_train[numeric_cols], X_train_cat])\n",
        "X_val_final = np.hstack([X_val[numeric_cols], X_val_cat])\n",
        "X_test_final = np.hstack([X_test[numeric_cols], X_test_cat])\n",
        "\n",
        "# Train Random Forest model\n",
        "model = RandomForestClassifier(n_estimators=100, random_state=42)\n",
        "model.fit(X_train_final, y_train)\n",
        "\n",
        "# Evaluate accuracy\n",
        "val_pred = model.predict(X_val_final)\n",
        "test_pred = model.predict(X_test_final)\n",
        "val_accuracy = accuracy_score(y_val, val_pred)\n",
        "test_accuracy = accuracy_score(y_test, test_pred)\n",
        "\n",
        "print(f\"Validation Accuracy: {val_accuracy:.2%}\")\n",
        "print(f\"Test Accuracy: {test_accuracy:.2%}\")\n",
        "\n",
        "# Save model and preprocessing components\n",
        "model_data = {\n",
        "    'model': model,\n",
        "    'imputer': imputer,\n",
        "    'scaler': scaler,\n",
        "    'encoder': encoder,\n",
        "    'numeric_cols': numeric_cols,\n",
        "    'categorical_cols': categorical_cols,\n",
        "    'input_cols': input_cols,\n",
        "    'categories': {\n",
        "        'Location': df['Location'].dropna().unique().tolist(),\n",
        "        'WindGustDir': df['WindGustDir'].dropna().unique().tolist(),\n",
        "        'WindDir9am': df['WindDir9am'].dropna().unique().tolist(),\n",
        "        'WindDir3pm': df['WindDir3pm'].dropna().unique().tolist(),\n",
        "    }\n",
        "}\n",
        "joblib.dump(model_data, 'aussie_rain.joblib')\n"
      ],
      "metadata": {
        "colab": {
          "base_uri": "https://localhost:8080/"
        },
        "id": "ZgVfJYkPjclP",
        "outputId": "44264c6f-2e99-4a2c-c535-2a3cd3527437"
      },
      "id": "ZgVfJYkPjclP",
      "execution_count": 28,
      "outputs": [
        {
          "output_type": "stream",
          "name": "stderr",
          "text": [
            "/tmp/ipython-input-28-3380294163.py:40: SettingWithCopyWarning: \n",
            "A value is trying to be set on a copy of a slice from a DataFrame.\n",
            "Try using .loc[row_indexer,col_indexer] = value instead\n",
            "\n",
            "See the caveats in the documentation: https://pandas.pydata.org/pandas-docs/stable/user_guide/indexing.html#returning-a-view-versus-a-copy\n",
            "  X_train[numeric_cols] = imputer.fit_transform(X_train[numeric_cols])\n",
            "/tmp/ipython-input-28-3380294163.py:41: SettingWithCopyWarning: \n",
            "A value is trying to be set on a copy of a slice from a DataFrame.\n",
            "Try using .loc[row_indexer,col_indexer] = value instead\n",
            "\n",
            "See the caveats in the documentation: https://pandas.pydata.org/pandas-docs/stable/user_guide/indexing.html#returning-a-view-versus-a-copy\n",
            "  X_val[numeric_cols] = imputer.transform(X_val[numeric_cols])\n",
            "/tmp/ipython-input-28-3380294163.py:42: SettingWithCopyWarning: \n",
            "A value is trying to be set on a copy of a slice from a DataFrame.\n",
            "Try using .loc[row_indexer,col_indexer] = value instead\n",
            "\n",
            "See the caveats in the documentation: https://pandas.pydata.org/pandas-docs/stable/user_guide/indexing.html#returning-a-view-versus-a-copy\n",
            "  X_test[numeric_cols] = imputer.transform(X_test[numeric_cols])\n",
            "/tmp/ipython-input-28-3380294163.py:46: SettingWithCopyWarning: \n",
            "A value is trying to be set on a copy of a slice from a DataFrame.\n",
            "Try using .loc[row_indexer,col_indexer] = value instead\n",
            "\n",
            "See the caveats in the documentation: https://pandas.pydata.org/pandas-docs/stable/user_guide/indexing.html#returning-a-view-versus-a-copy\n",
            "  X_train[numeric_cols] = scaler.fit_transform(X_train[numeric_cols])\n",
            "/tmp/ipython-input-28-3380294163.py:47: SettingWithCopyWarning: \n",
            "A value is trying to be set on a copy of a slice from a DataFrame.\n",
            "Try using .loc[row_indexer,col_indexer] = value instead\n",
            "\n",
            "See the caveats in the documentation: https://pandas.pydata.org/pandas-docs/stable/user_guide/indexing.html#returning-a-view-versus-a-copy\n",
            "  X_val[numeric_cols] = scaler.transform(X_val[numeric_cols])\n",
            "/tmp/ipython-input-28-3380294163.py:48: SettingWithCopyWarning: \n",
            "A value is trying to be set on a copy of a slice from a DataFrame.\n",
            "Try using .loc[row_indexer,col_indexer] = value instead\n",
            "\n",
            "See the caveats in the documentation: https://pandas.pydata.org/pandas-docs/stable/user_guide/indexing.html#returning-a-view-versus-a-copy\n",
            "  X_test[numeric_cols] = scaler.transform(X_test[numeric_cols])\n"
          ]
        },
        {
          "output_type": "stream",
          "name": "stdout",
          "text": [
            "Validation Accuracy: 85.61%\n",
            "Test Accuracy: 84.50%\n"
          ]
        },
        {
          "output_type": "execute_result",
          "data": {
            "text/plain": [
              "['aussie_rain.joblib']"
            ]
          },
          "metadata": {},
          "execution_count": 28
        }
      ]
    }
  ],
  "metadata": {
    "colab": {
      "provenance": []
    },
    "kernelspec": {
      "display_name": "Python 3 (ipykernel)",
      "language": "python",
      "name": "python3"
    },
    "language_info": {
      "codemirror_mode": {
        "name": "ipython",
        "version": 3
      },
      "file_extension": ".py",
      "mimetype": "text/x-python",
      "name": "python",
      "nbconvert_exporter": "python",
      "pygments_lexer": "ipython3",
      "version": "3.12.0"
    }
  },
  "nbformat": 4,
  "nbformat_minor": 5
}